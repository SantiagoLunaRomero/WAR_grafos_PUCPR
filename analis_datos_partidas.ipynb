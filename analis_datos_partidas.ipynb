{
 "cells": [
  {
   "cell_type": "code",
   "execution_count": 85,
   "metadata": {},
   "outputs": [],
   "source": [
    "import pickle\n",
    "\n",
    "# Intentamos cargar nuevamente el archivo proporcionado\n",
    "with open(\"partidas/atacar/memory_ataque_2023-09-03_22-57-36.pkl\", \"rb\") as f:\n",
    "    partida_data = pickle.load(f)\n",
    "\n",
    "# Veamos la estructura y algunos ejemplos de los datos\n",
    "sample_data = partida_data[:10]\n"
   ]
  },
  {
   "cell_type": "code",
   "execution_count": 86,
   "metadata": {},
   "outputs": [
    {
     "data": {
      "text/plain": [
       "{'min': 0.5,\n",
       " 'max': 10.458514057300475,\n",
       " 'mean': 6.735693911128295,\n",
       " 'std': 1.9937182274436187}"
      ]
     },
     "execution_count": 86,
     "metadata": {},
     "output_type": "execute_result"
    }
   ],
   "source": [
    "recompensas = [x[2] for x in partida_data]\n",
    "recompensas_stats = {\n",
    "    'min': min(recompensas),\n",
    "    'max': max(recompensas),\n",
    "    'mean': np.mean(recompensas),\n",
    "    'std': np.std(recompensas)\n",
    "}\n",
    "recompensas_stats"
   ]
  },
  {
   "cell_type": "code",
   "execution_count": 75,
   "metadata": {},
   "outputs": [
    {
     "data": {
      "text/plain": [
       "({'min': 0.0,\n",
       "  'max': 18.0,\n",
       "  'mean': 0.5453567035670357,\n",
       "  'std': 1.6791942969617026},\n",
       " {'min': -0.026984126984126888,\n",
       "  'max': 474.1010942648036,\n",
       "  'mean': 272.3079751037076,\n",
       "  'std': 137.52708327828})"
      ]
     },
     "execution_count": 75,
     "metadata": {},
     "output_type": "execute_result"
    }
   ],
   "source": [
    "import numpy as np\n",
    "# Extraer estados, acciones y recompensas de los datos de la partida\n",
    "estados = [x[0] for x in partida_data]\n",
    "acciones = [x[1] for x in partida_data]\n",
    "recompensas = [x[2] for x in partida_data]\n",
    "estados_siguientes = [x[3] for x in partida_data]\n",
    "\n",
    "# Calcular estadísticas descriptivas para los estados y las recompensas\n",
    "estados_flat = np.array(estados).flatten()\n",
    "estados_siguientes_flat = np.array(estados_siguientes).flatten()\n",
    "\n",
    "estados_stats = {\n",
    "    'min': estados_flat.min(),\n",
    "    'max': estados_flat.max(),\n",
    "    'mean': estados_flat.mean(),\n",
    "    'std': estados_flat.std()\n",
    "}\n",
    "\n",
    "recompensas_stats = {\n",
    "    'min': min(recompensas),\n",
    "    'max': max(recompensas),\n",
    "    'mean': np.mean(recompensas),\n",
    "    'std': np.std(recompensas)\n",
    "}\n",
    "\n",
    "estados_stats, recompensas_stats"
   ]
  },
  {
   "cell_type": "code",
   "execution_count": 76,
   "metadata": {},
   "outputs": [
    {
     "data": {
      "text/plain": [
       "[-0.026984126984126888,\n",
       " 9.735190476190477,\n",
       " 19.399743333333333,\n",
       " 29.735507804761905,\n",
       " 39.300057488619046,\n",
       " 50.66896167563762,\n",
       " 59.44798634459553,\n",
       " 68.13922076686386,\n",
       " 76.74354284490951,\n",
       " 85.51182170217471,\n",
       " 93.94241777086725,\n",
       " 102.6220412122062,\n",
       " 110.88153508579843,\n",
       " 119.55843402065474,\n",
       " 127.64856396616248,\n",
       " 137.15779261221513,\n",
       " 146.27192897180728,\n",
       " 155.0449239678035,\n",
       " 163.6230461566969,\n",
       " 171.27252998084418,\n",
       " 179.67051896675002,\n",
       " 188.2547661580349,\n",
       " 196.41983754407357,\n",
       " 204.50325821625188,\n",
       " 212.49751134837507,\n",
       " 219.42015528251036,\n",
       " 227.2735727773043,\n",
       " 235.0484560971503,\n",
       " 241.91225725046453,\n",
       " 249.04075372557892,\n",
       " 256.8479652359422,\n",
       " 264.16043796453516,\n",
       " 270.56645263250886,\n",
       " 276.9084071538028,\n",
       " 283.6869421298838,\n",
       " 290.297691756204,\n",
       " 296.942333886261,\n",
       " 304.1133867378746,\n",
       " 310.1198719181149,\n",
       " 316.0662922465528,\n",
       " 321.9532483717063,\n",
       " 328.61466826894167,\n",
       " 334.7570930148237,\n",
       " 340.0047601799135,\n",
       " 346.7832840066858,\n",
       " 351.17259402376175,\n",
       " 355.51801094066695,\n",
       " 360.0199736884032,\n",
       " 364.6102501419954,\n",
       " 369.93795716438495,\n",
       " 375.2123871165506,\n",
       " 379.8174061025279,\n",
       " 385.5763748986455,\n",
       " 390.9110873401352,\n",
       " 395.1091193238767,\n",
       " 399.0151709877808,\n",
       " 403.3821621350458,\n",
       " 408.12215003750487,\n",
       " 412.731404727606,\n",
       " 417.1612335374728,\n",
       " 422.1800973925743,\n",
       " 426.0654392757914,\n",
       " 431.1619277401763,\n",
       " 435.4455465580126,\n",
       " 440.68632918767054,\n",
       " 446.20803732436525,\n",
       " 451.0792902844549,\n",
       " 455.4018307149436,\n",
       " 459.78114574112755,\n",
       " 464.26666761704956,\n",
       " 468.95733427421237,\n",
       " 474.1010942648036]"
      ]
     },
     "execution_count": 76,
     "metadata": {},
     "output_type": "execute_result"
    }
   ],
   "source": [
    "recompensas"
   ]
  },
  {
   "cell_type": "code",
   "execution_count": 37,
   "metadata": {},
   "outputs": [
    {
     "data": {
      "text/plain": [
       "72"
      ]
     },
     "execution_count": 37,
     "metadata": {},
     "output_type": "execute_result"
    }
   ],
   "source": [
    "len(recompensas)"
   ]
  },
  {
   "cell_type": "code",
   "execution_count": 98,
   "metadata": {},
   "outputs": [],
   "source": [
    "import os\n",
    "# Ruta a la carpeta que contiene los archivos .pickle\n",
    "ruta_carpeta = \"partidas/reforzar\"\n",
    "archivos = [os.path.join(ruta_carpeta, archivo) for archivo in os.listdir(ruta_carpeta) if archivo.endswith('.pkl')]\n",
    "\n",
    "# Calcula la longitud de cada archivo\n",
    "estados_total=[]\n",
    "recompensa_totales=[]\n",
    "for archivo in archivos:\n",
    "    with open(archivo, 'rb') as f:\n",
    "        partida = pickle.load(f)\n",
    "        # Extraer estados, acciones y recompensas de los datos de la partida\n",
    "        estados = [x[0] for x in partida]\n",
    "        acciones = [x[1] for x in partida]\n",
    "        recompensas = [x[2] for x in partida]\n",
    "        estados_siguientes = [x[3] for x in partida]\n",
    "        estados_flat = list(np.array(estados).flatten())\n",
    "        estados_total = estados_total + estados_flat\n",
    "        recompensa_totales = recompensa_totales + recompensas\n",
    "        \n"
   ]
  },
  {
   "cell_type": "code",
   "execution_count": 99,
   "metadata": {},
   "outputs": [
    {
     "data": {
      "text/plain": [
       "({'min': 0.0,\n",
       "  'max': 1046.0,\n",
       "  'mean': 4.536857639951466,\n",
       "  'std': 22.6302538209508},\n",
       " {'min': -5.875,\n",
       "  'max': 30.186335145763145,\n",
       "  'mean': 4.186160320141174,\n",
       "  'std': 7.258390370131729})"
      ]
     },
     "execution_count": 99,
     "metadata": {},
     "output_type": "execute_result"
    }
   ],
   "source": [
    "recompensas_stats = {\n",
    "    'min': min(recompensa_totales),\n",
    "    'max': max(recompensa_totales),\n",
    "    'mean': np.mean(recompensa_totales),\n",
    "    'std': np.std(recompensa_totales)\n",
    "}\n",
    "estados_stats = {\n",
    "    'min': min(estados_total),\n",
    "    'max': max(estados_total),\n",
    "    'mean': np.mean(estados_total),\n",
    "    'std': np.std(estados_total)\n",
    "}\n",
    "estados_stats, recompensas_stats"
   ]
  },
  {
   "cell_type": "code",
   "execution_count": 66,
   "metadata": {},
   "outputs": [
    {
     "data": {
      "text/plain": [
       "{'min': -171.03596080985994,\n",
       " 'max': 1522.6844754970184,\n",
       " 'mean': 320.8888859057151,\n",
       " 'std': 292.77440000499723}"
      ]
     },
     "execution_count": 66,
     "metadata": {},
     "output_type": "execute_result"
    }
   ],
   "source": [
    "recompensas_stats"
   ]
  },
  {
   "cell_type": "code",
   "execution_count": 69,
   "metadata": {},
   "outputs": [
    {
     "data": {
      "text/plain": [
       "0.0"
      ]
     },
     "execution_count": 69,
     "metadata": {},
     "output_type": "execute_result"
    }
   ],
   "source": [
    "estados_total[100]"
   ]
  },
  {
   "cell_type": "code",
   "execution_count": 71,
   "metadata": {},
   "outputs": [
    {
     "ename": "AttributeError",
     "evalue": "'list' object has no attribute 'min'",
     "output_type": "error",
     "traceback": [
      "\u001b[1;31m---------------------------------------------------------------------------\u001b[0m",
      "\u001b[1;31mAttributeError\u001b[0m                            Traceback (most recent call last)",
      "\u001b[1;32m~\\AppData\\Local\\Temp/ipykernel_25064/1959169067.py\u001b[0m in \u001b[0;36m<module>\u001b[1;34m\u001b[0m\n\u001b[1;32m----> 1\u001b[1;33m \u001b[0mrecompensa_totales\u001b[0m\u001b[1;33m.\u001b[0m\u001b[0mmin\u001b[0m\u001b[1;33m(\u001b[0m\u001b[1;33m)\u001b[0m\u001b[1;33m\u001b[0m\u001b[1;33m\u001b[0m\u001b[0m\n\u001b[0m",
      "\u001b[1;31mAttributeError\u001b[0m: 'list' object has no attribute 'min'"
     ]
    }
   ],
   "source": [
    "recompensa_totales.min()"
   ]
  },
  {
   "cell_type": "code",
   "execution_count": null,
   "metadata": {},
   "outputs": [],
   "source": []
  }
 ],
 "metadata": {
  "kernelspec": {
   "display_name": "base",
   "language": "python",
   "name": "python3"
  },
  "language_info": {
   "codemirror_mode": {
    "name": "ipython",
    "version": 3
   },
   "file_extension": ".py",
   "mimetype": "text/x-python",
   "name": "python",
   "nbconvert_exporter": "python",
   "pygments_lexer": "ipython3",
   "version": "3.9.7"
  },
  "orig_nbformat": 4
 },
 "nbformat": 4,
 "nbformat_minor": 2
}
