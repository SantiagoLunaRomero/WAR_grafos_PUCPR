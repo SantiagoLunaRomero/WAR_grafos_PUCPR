{
 "cells": [
  {
   "cell_type": "code",
   "execution_count": 1,
   "metadata": {},
   "outputs": [],
   "source": [
    "import pyautogui\n",
    "import datetime\n",
    "import pygetwindow as gw\n",
    "import win32gui\n",
    "import sys\n",
    "import cv2\n",
    "import os\n",
    "import time\n",
    "import numpy as np\n",
    "sys.path.append('../')\n",
    "from Segmentation_country.segmentation_country import segmentation_country_class, recognition_class\n",
    "#from agents.simple_agent_matrix import simple_agent_matrix\n",
    "from misiones import misiones\n",
    "from tablero_jugador import Tablero\n",
    "from Jugadores.jugador import Jugador\n",
    "from Jugadores.jugadorGrafoOptimizado_2Cambios import JugadorGrafoOptimizado\n",
    "\n",
    "import math\n",
    "from matplotlib import pyplot as plt   "
   ]
  },
  {
   "cell_type": "code",
   "execution_count": 2,
   "metadata": {},
   "outputs": [],
   "source": [
    "def calcular_diferencia_color(color1, color2):\n",
    "    r1, g1, b1 = color1\n",
    "    r2, g2, b2 = color2\n",
    "\n",
    "    diferencia = math.sqrt((r2 - r1)**2 + (g2 - g1)**2 + (b2 - b1)**2)\n",
    "    return diferencia\n",
    "\n",
    "def identificar_color(color_a_identificar, color_referencia, umbral):\n",
    "    diferencia = calcular_diferencia_color(color_a_identificar, color_referencia)\n",
    "    if diferencia <= umbral:\n",
    "        return True\n",
    "    else:\n",
    "        print(diferencia,umbral)\n",
    "        return False"
   ]
  },
  {
   "cell_type": "code",
   "execution_count": 3,
   "metadata": {},
   "outputs": [],
   "source": [
    "def get_chrome_printscreen(filename_save):\n",
    "    # Nombre de la ventana de Google Chrome\n",
    "    chrome_window_title = \"Google Chrome\"\n",
    "\n",
    "    # Obtener todas las ventanas abiertas\n",
    "    windows = gw.getAllTitles()\n",
    "\n",
    "    # Buscar la ventana de Google Chrome en la lista de ventanas\n",
    "    chrome_window = None\n",
    "    for window_title in windows:\n",
    "        if chrome_window_title in window_title:\n",
    "            chrome_window = gw.getWindowsWithTitle(window_title)[0]\n",
    "            break\n",
    "\n",
    "    # Verificar si se encontró la ventana de Chrome\n",
    "    if chrome_window is None:\n",
    "        print('nenhuma janela chrome detectada')\n",
    "        return False\n",
    "\n",
    "    # Obtener el título de la ventana de Chrome\n",
    "    chrome_title = win32gui.GetWindowText(chrome_window._hWnd)\n",
    "\n",
    "    window_title = chrome_title\n",
    "\n",
    "    # # Obtener la ventana por su título\n",
    "    window = gw.getWindowsWithTitle(window_title)\n",
    "\n",
    "    # # Verificar si se encontró la ventana\n",
    "    if len(window) == 0:\n",
    "        print(f\"No se encontró una ventana con el título '{window_title}'.\")\n",
    "\n",
    "    else:\n",
    "        # Seleccionar la primera ventana encontrada (puedes ajustar esto si hay varias)\n",
    "        target_window = window[0]\n",
    "\n",
    "        # Activar la ventana\n",
    "        target_window.activate()\n",
    "\n",
    "        # Capturar la ventana activa\n",
    "        #\n",
    "        screenshot = pyautogui.screenshot(region=[target_window.left, target_window.top, target_window.width, target_window.height])\n",
    "\n",
    "        # Generar un nombre de archivo único basado en la fecha y hora\n",
    "        timestamp = datetime.datetime.now().strftime(\"%Y%m%d%H%M%S\")\n",
    "        filename = f\"screenshot_{timestamp}.png\"\n",
    "\n",
    "        # Guardar la captura de pantalla en un archivo\n",
    "        screenshot.save(filename)\n",
    "\n",
    "        print(f\"Captura de pantalla de la ventana '{window_title}' guardada como {filename}\")\n",
    "\n",
    "        cv_image = cv2.imread(filename)\n",
    "\n",
    "        crop_image = cv_image[200:900, 200:1300]\n",
    "        # cv2.imshow(\"cropped\", crop_image)\n",
    "        # cv2.waitKey(0)\n",
    "        # cv2.destroyAllWindows()\n",
    "        cv2.imwrite(filename_save, crop_image)\n",
    "        #os.remove(filename)\n",
    "        return True\n",
    "\n",
    "def get_player_color(image):\n",
    "\n",
    "    try:\n",
    "        player_color = ''\n",
    "        a2D = image.reshape(-1,image.shape[-1])\n",
    "        #remove a2D [0,0,0] items\n",
    "        a2D = a2D[np.all(a2D >= [10,10,10], axis=1)] #removendo black pixels\n",
    "        #removendo pixels brancos\n",
    "        a2D = a2D[np.all(a2D<=[240,240,240], axis=1)]\n",
    "        print('a2D pos remocao black pixels e pixels brancos shape: ', a2D.shape)\n",
    "        col_range = (256, 256, 256) # generically : a2D.max(0)+1\n",
    "        a1D = np.ravel_multi_index(a2D.T, col_range)\n",
    "        bgr_format = np.unravel_index(np.bincount(a1D).argmax(), col_range)\n",
    "        print('bgr_format: ', bgr_format)\n",
    "        #colores = [\"blue\", \"red\", \"green\", \"purple\", \"yellow\", \"black\"]\n",
    "        colores ={\"red\" : [49,34,185],\n",
    "                \"blue\":[181,148,21],\n",
    "                \"green\":[53,141,87],\n",
    "                \"yellow\":[30,176,218],\n",
    "                \"purple\":[116,46,76],\n",
    "                \"black\":[56,56,56]} #BLUE GREEN RED\n",
    "        \n",
    "        player_color=None\n",
    "        for key in colores:\n",
    "            if (identificar_color(bgr_format, colores[key], 95)):\n",
    "                player_color = key\n",
    "                break\n",
    "            else:\n",
    "                player_color = \"blue\"\n",
    "        #time_end = time.time()\n",
    "        #print('time to get color: ', time_end - time_start)\n",
    "    except Exception as e:\n",
    "        player_color = \"blue\"\n",
    "        print('error: ', e)\n",
    "    finally:\n",
    "        return player_color\n",
    "\n",
    "\n",
    "def create_matrix_from_masks(masks, ocr: recognition_class):\n",
    "    #cria matriz de adjacencia\n",
    "    matrix = []\n",
    "    territory_army_dict = {}\n",
    "    for item,mask in masks.items():\n",
    "        try:\n",
    "            army = int(ocr.recog_image(mask))\n",
    "        except:\n",
    "            army = 1\n",
    "        if(army is None):\n",
    "            army = 1\n",
    "        plyer_color = get_player_color(mask.copy())\n",
    "        territory_army_dict[item] = [army,plyer_color]\n",
    "\n",
    "        if (plyer_color is None):\n",
    "            print('pais: {0} com {1} tropas e cor {2}'.format(item, army, plyer_color))\n",
    "            cv2.imshow(item, mask)\n",
    "            cv2.resizeWindow(item, 600,600)\n",
    "            cv2.waitKey(0)\n",
    "            cv2.destroyAllWindows()\n",
    "    \n",
    "    return territory_army_dict"
   ]
  },
  {
   "cell_type": "code",
   "execution_count": 4,
   "metadata": {},
   "outputs": [
    {
     "name": "stdout",
     "output_type": "stream",
     "text": [
      "layer input shape:  [1,1,32,100]\n",
      "_____ se ha establecido la mision de conquistar continentonces :  ['Europa', 'Oceanía']\n",
      "Es neceseario tambien un continente extra : \n",
      "_____ se ha establecido la mision de conquistar continentonces :  ['Europa', 'Oceanía']\n",
      "Es neceseario tambien un continente extra : \n"
     ]
    }
   ],
   "source": [
    "segmentation_prediction = segmentation_country_class(\"./DA_rodrigo_4000_mobilenetv2.h5\")\n",
    "ocr = recognition_class(\"text-recognition-resnet-fc-ft-v3-norm.xml\",\"text-recognition-resnet-fc-ft-v3-norm.bin\")\n",
    "screenshot_filepath = \"crop_screenshot_completo.jpg\"\n",
    "#CORES  = [  0   ,  1  ,   2   ,    3    ,  4     ,   5  ]\n",
    "colores = [\"blue\",\"red\",\"green\",\"purple\",\"yellow\",\"black\"]\n",
    "#MISAON\n",
    "cinza_objectivo = 0\n",
    "Jugador_puc = JugadorGrafoOptimizado(\"JOGADOR_PUCPR_IA\", colores[0], misiones[cinza_objectivo])\n",
    "\n",
    "mision_desconocida = [0,0,0,0,0,0,0,0,0,0,0,0,0,0]\n",
    "jugador1 = Jugador(\"1\",colores[1],mision_desconocida)\n",
    "jugador2 = Jugador(\"2\",colores[2],mision_desconocida)\n",
    "jugador3 = Jugador(\"3\",colores[3],mision_desconocida)\n",
    "jugador4 = Jugador(\"4\",colores[4],mision_desconocida)\n",
    "jugador5 = Jugador(\"5\",colores[5],mision_desconocida)\n",
    "\n",
    "jugadores = [Jugador_puc,jugador1,jugador2,jugador3,jugador4,jugador5]\n",
    "tablero = Tablero(jugadores)\n",
    "Jugador_puc.interpretar_mision(misiones[cinza_objectivo])\n",
    "Jugador_puc.descripcion = misiones[cinza_objectivo].descripcion"
   ]
  },
  {
   "cell_type": "code",
   "execution_count": 8,
   "metadata": {},
   "outputs": [
    {
     "name": "stdout",
     "output_type": "stream",
     "text": [
      "1/1 [==============================] - 1s 555ms/step\n"
     ]
    }
   ],
   "source": [
    "masks = segmentation_prediction.predict_masks(screenshot_filepath)\n"
   ]
  },
  {
   "cell_type": "code",
   "execution_count": 14,
   "metadata": {},
   "outputs": [
    {
     "ename": "ValueError",
     "evalue": "zero-size array to reduction operation minimum which has no identity",
     "output_type": "error",
     "traceback": [
      "\u001b[1;31m---------------------------------------------------------------------------\u001b[0m",
      "\u001b[1;31mValueError\u001b[0m                                Traceback (most recent call last)",
      "\u001b[1;32md:\\Documentos D\\Trabajos\\PIM\\grafos_git\\WAR_grafos_PUCPR\\run\\prueba.ipynb Cell 6\u001b[0m line \u001b[0;36m2\n\u001b[0;32m      <a href='vscode-notebook-cell:/d%3A/Documentos%20D/Trabajos/PIM/grafos_git/WAR_grafos_PUCPR/run/prueba.ipynb#W5sZmlsZQ%3D%3D?line=0'>1</a>\u001b[0m \u001b[39mfor\u001b[39;00m item,mask \u001b[39min\u001b[39;00m masks\u001b[39m.\u001b[39mitems():\n\u001b[1;32m----> <a href='vscode-notebook-cell:/d%3A/Documentos%20D/Trabajos/PIM/grafos_git/WAR_grafos_PUCPR/run/prueba.ipynb#W5sZmlsZQ%3D%3D?line=1'>2</a>\u001b[0m     plt\u001b[39m.\u001b[39;49mimshow(mask)\n",
      "File \u001b[1;32md:\\Users\\SLR02\\anaconda3\\envs\\war_py\\lib\\site-packages\\matplotlib\\pyplot.py:3346\u001b[0m, in \u001b[0;36mimshow\u001b[1;34m(X, cmap, norm, aspect, interpolation, alpha, vmin, vmax, origin, extent, interpolation_stage, filternorm, filterrad, resample, url, data, **kwargs)\u001b[0m\n\u001b[0;32m   3325\u001b[0m \u001b[39m@_copy_docstring_and_deprecators\u001b[39m(Axes\u001b[39m.\u001b[39mimshow)\n\u001b[0;32m   3326\u001b[0m \u001b[39mdef\u001b[39;00m \u001b[39mimshow\u001b[39m(\n\u001b[0;32m   3327\u001b[0m     X: ArrayLike \u001b[39m|\u001b[39m PIL\u001b[39m.\u001b[39mImage\u001b[39m.\u001b[39mImage,\n\u001b[1;32m   (...)\u001b[0m\n\u001b[0;32m   3344\u001b[0m     \u001b[39m*\u001b[39m\u001b[39m*\u001b[39mkwargs,\n\u001b[0;32m   3345\u001b[0m ) \u001b[39m-\u001b[39m\u001b[39m>\u001b[39m AxesImage:\n\u001b[1;32m-> 3346\u001b[0m     __ret \u001b[39m=\u001b[39m gca()\u001b[39m.\u001b[39mimshow(\n\u001b[0;32m   3347\u001b[0m         X,\n\u001b[0;32m   3348\u001b[0m         cmap\u001b[39m=\u001b[39mcmap,\n\u001b[0;32m   3349\u001b[0m         norm\u001b[39m=\u001b[39mnorm,\n\u001b[0;32m   3350\u001b[0m         aspect\u001b[39m=\u001b[39maspect,\n\u001b[0;32m   3351\u001b[0m         interpolation\u001b[39m=\u001b[39minterpolation,\n\u001b[0;32m   3352\u001b[0m         alpha\u001b[39m=\u001b[39malpha,\n\u001b[0;32m   3353\u001b[0m         vmin\u001b[39m=\u001b[39mvmin,\n\u001b[0;32m   3354\u001b[0m         vmax\u001b[39m=\u001b[39mvmax,\n\u001b[0;32m   3355\u001b[0m         origin\u001b[39m=\u001b[39morigin,\n\u001b[0;32m   3356\u001b[0m         extent\u001b[39m=\u001b[39mextent,\n\u001b[0;32m   3357\u001b[0m         interpolation_stage\u001b[39m=\u001b[39minterpolation_stage,\n\u001b[0;32m   3358\u001b[0m         filternorm\u001b[39m=\u001b[39mfilternorm,\n\u001b[0;32m   3359\u001b[0m         filterrad\u001b[39m=\u001b[39mfilterrad,\n\u001b[0;32m   3360\u001b[0m         resample\u001b[39m=\u001b[39mresample,\n\u001b[0;32m   3361\u001b[0m         url\u001b[39m=\u001b[39murl,\n\u001b[0;32m   3362\u001b[0m         \u001b[39m*\u001b[39m\u001b[39m*\u001b[39m({\u001b[39m\"\u001b[39m\u001b[39mdata\u001b[39m\u001b[39m\"\u001b[39m: data} \u001b[39mif\u001b[39;00m data \u001b[39mis\u001b[39;00m \u001b[39mnot\u001b[39;00m \u001b[39mNone\u001b[39;00m \u001b[39melse\u001b[39;00m {}),\n\u001b[0;32m   3363\u001b[0m         \u001b[39m*\u001b[39m\u001b[39m*\u001b[39mkwargs,\n\u001b[0;32m   3364\u001b[0m     )\n\u001b[0;32m   3365\u001b[0m     sci(__ret)\n\u001b[0;32m   3366\u001b[0m     \u001b[39mreturn\u001b[39;00m __ret\n",
      "File \u001b[1;32md:\\Users\\SLR02\\anaconda3\\envs\\war_py\\lib\\site-packages\\matplotlib\\__init__.py:1492\u001b[0m, in \u001b[0;36m_preprocess_data.<locals>.inner\u001b[1;34m(ax, data, *args, **kwargs)\u001b[0m\n\u001b[0;32m   1489\u001b[0m \u001b[39m@functools\u001b[39m\u001b[39m.\u001b[39mwraps(func)\n\u001b[0;32m   1490\u001b[0m \u001b[39mdef\u001b[39;00m \u001b[39minner\u001b[39m(ax, \u001b[39m*\u001b[39margs, data\u001b[39m=\u001b[39m\u001b[39mNone\u001b[39;00m, \u001b[39m*\u001b[39m\u001b[39m*\u001b[39mkwargs):\n\u001b[0;32m   1491\u001b[0m     \u001b[39mif\u001b[39;00m data \u001b[39mis\u001b[39;00m \u001b[39mNone\u001b[39;00m:\n\u001b[1;32m-> 1492\u001b[0m         \u001b[39mreturn\u001b[39;00m func(ax, \u001b[39m*\u001b[39m\u001b[39mmap\u001b[39m(sanitize_sequence, args), \u001b[39m*\u001b[39m\u001b[39m*\u001b[39mkwargs)\n\u001b[0;32m   1494\u001b[0m     bound \u001b[39m=\u001b[39m new_sig\u001b[39m.\u001b[39mbind(ax, \u001b[39m*\u001b[39margs, \u001b[39m*\u001b[39m\u001b[39m*\u001b[39mkwargs)\n\u001b[0;32m   1495\u001b[0m     auto_label \u001b[39m=\u001b[39m (bound\u001b[39m.\u001b[39marguments\u001b[39m.\u001b[39mget(label_namer)\n\u001b[0;32m   1496\u001b[0m                   \u001b[39mor\u001b[39;00m bound\u001b[39m.\u001b[39mkwargs\u001b[39m.\u001b[39mget(label_namer))\n",
      "File \u001b[1;32md:\\Users\\SLR02\\anaconda3\\envs\\war_py\\lib\\site-packages\\matplotlib\\axes\\_axes.py:5751\u001b[0m, in \u001b[0;36mAxes.imshow\u001b[1;34m(self, X, cmap, norm, aspect, interpolation, alpha, vmin, vmax, origin, extent, interpolation_stage, filternorm, filterrad, resample, url, **kwargs)\u001b[0m\n\u001b[0;32m   5748\u001b[0m \u001b[39mif\u001b[39;00m aspect \u001b[39mis\u001b[39;00m \u001b[39mnot\u001b[39;00m \u001b[39mNone\u001b[39;00m:\n\u001b[0;32m   5749\u001b[0m     \u001b[39mself\u001b[39m\u001b[39m.\u001b[39mset_aspect(aspect)\n\u001b[1;32m-> 5751\u001b[0m im\u001b[39m.\u001b[39;49mset_data(X)\n\u001b[0;32m   5752\u001b[0m im\u001b[39m.\u001b[39mset_alpha(alpha)\n\u001b[0;32m   5753\u001b[0m \u001b[39mif\u001b[39;00m im\u001b[39m.\u001b[39mget_clip_path() \u001b[39mis\u001b[39;00m \u001b[39mNone\u001b[39;00m:\n\u001b[0;32m   5754\u001b[0m     \u001b[39m# image does not already have clipping set, clip to axes patch\u001b[39;00m\n",
      "File \u001b[1;32md:\\Users\\SLR02\\anaconda3\\envs\\war_py\\lib\\site-packages\\matplotlib\\image.py:723\u001b[0m, in \u001b[0;36m_ImageBase.set_data\u001b[1;34m(self, A)\u001b[0m\n\u001b[0;32m    721\u001b[0m \u001b[39mif\u001b[39;00m \u001b[39misinstance\u001b[39m(A, PIL\u001b[39m.\u001b[39mImage\u001b[39m.\u001b[39mImage):\n\u001b[0;32m    722\u001b[0m     A \u001b[39m=\u001b[39m pil_to_array(A)  \u001b[39m# Needed e.g. to apply png palette.\u001b[39;00m\n\u001b[1;32m--> 723\u001b[0m \u001b[39mself\u001b[39m\u001b[39m.\u001b[39m_A \u001b[39m=\u001b[39m \u001b[39mself\u001b[39;49m\u001b[39m.\u001b[39;49m_normalize_image_array(A)\n\u001b[0;32m    724\u001b[0m \u001b[39mself\u001b[39m\u001b[39m.\u001b[39m_imcache \u001b[39m=\u001b[39m \u001b[39mNone\u001b[39;00m\n\u001b[0;32m    725\u001b[0m \u001b[39mself\u001b[39m\u001b[39m.\u001b[39mstale \u001b[39m=\u001b[39m \u001b[39mTrue\u001b[39;00m\n",
      "File \u001b[1;32md:\\Users\\SLR02\\anaconda3\\envs\\war_py\\lib\\site-packages\\matplotlib\\image.py:700\u001b[0m, in \u001b[0;36m_ImageBase._normalize_image_array\u001b[1;34m(A)\u001b[0m\n\u001b[0;32m    694\u001b[0m \u001b[39mif\u001b[39;00m A\u001b[39m.\u001b[39mndim \u001b[39m==\u001b[39m \u001b[39m3\u001b[39m:\n\u001b[0;32m    695\u001b[0m     \u001b[39m# If the input data has values outside the valid range (after\u001b[39;00m\n\u001b[0;32m    696\u001b[0m     \u001b[39m# normalisation), we issue a warning and then clip X to the bounds\u001b[39;00m\n\u001b[0;32m    697\u001b[0m     \u001b[39m# - otherwise casting wraps extreme values, hiding outliers and\u001b[39;00m\n\u001b[0;32m    698\u001b[0m     \u001b[39m# making reliable interpretation impossible.\u001b[39;00m\n\u001b[0;32m    699\u001b[0m     high \u001b[39m=\u001b[39m \u001b[39m255\u001b[39m \u001b[39mif\u001b[39;00m np\u001b[39m.\u001b[39missubdtype(A\u001b[39m.\u001b[39mdtype, np\u001b[39m.\u001b[39minteger) \u001b[39melse\u001b[39;00m \u001b[39m1\u001b[39m\n\u001b[1;32m--> 700\u001b[0m     \u001b[39mif\u001b[39;00m A\u001b[39m.\u001b[39;49mmin() \u001b[39m<\u001b[39m \u001b[39m0\u001b[39m \u001b[39mor\u001b[39;00m high \u001b[39m<\u001b[39m A\u001b[39m.\u001b[39mmax():\n\u001b[0;32m    701\u001b[0m         _log\u001b[39m.\u001b[39mwarning(\n\u001b[0;32m    702\u001b[0m             \u001b[39m'\u001b[39m\u001b[39mClipping input data to the valid range for imshow with \u001b[39m\u001b[39m'\u001b[39m\n\u001b[0;32m    703\u001b[0m             \u001b[39m'\u001b[39m\u001b[39mRGB data ([0..1] for floats or [0..255] for integers).\u001b[39m\u001b[39m'\u001b[39m\n\u001b[0;32m    704\u001b[0m         )\n\u001b[0;32m    705\u001b[0m         A \u001b[39m=\u001b[39m np\u001b[39m.\u001b[39mclip(A, \u001b[39m0\u001b[39m, high)\n",
      "File \u001b[1;32md:\\Users\\SLR02\\anaconda3\\envs\\war_py\\lib\\site-packages\\numpy\\ma\\core.py:5816\u001b[0m, in \u001b[0;36mMaskedArray.min\u001b[1;34m(self, axis, out, fill_value, keepdims)\u001b[0m\n\u001b[0;32m   5814\u001b[0m \u001b[39m# No explicit output\u001b[39;00m\n\u001b[0;32m   5815\u001b[0m \u001b[39mif\u001b[39;00m out \u001b[39mis\u001b[39;00m \u001b[39mNone\u001b[39;00m:\n\u001b[1;32m-> 5816\u001b[0m     result \u001b[39m=\u001b[39m \u001b[39mself\u001b[39m\u001b[39m.\u001b[39mfilled(fill_value)\u001b[39m.\u001b[39mmin(\n\u001b[0;32m   5817\u001b[0m         axis\u001b[39m=\u001b[39maxis, out\u001b[39m=\u001b[39mout, \u001b[39m*\u001b[39m\u001b[39m*\u001b[39mkwargs)\u001b[39m.\u001b[39mview(\u001b[39mtype\u001b[39m(\u001b[39mself\u001b[39m))\n\u001b[0;32m   5818\u001b[0m     \u001b[39mif\u001b[39;00m result\u001b[39m.\u001b[39mndim:\n\u001b[0;32m   5819\u001b[0m         \u001b[39m# Set the mask\u001b[39;00m\n\u001b[0;32m   5820\u001b[0m         result\u001b[39m.\u001b[39m__setmask__(newmask)\n",
      "File \u001b[1;32md:\\Users\\SLR02\\anaconda3\\envs\\war_py\\lib\\site-packages\\numpy\\core\\_methods.py:45\u001b[0m, in \u001b[0;36m_amin\u001b[1;34m(a, axis, out, keepdims, initial, where)\u001b[0m\n\u001b[0;32m     43\u001b[0m \u001b[39mdef\u001b[39;00m \u001b[39m_amin\u001b[39m(a, axis\u001b[39m=\u001b[39m\u001b[39mNone\u001b[39;00m, out\u001b[39m=\u001b[39m\u001b[39mNone\u001b[39;00m, keepdims\u001b[39m=\u001b[39m\u001b[39mFalse\u001b[39;00m,\n\u001b[0;32m     44\u001b[0m           initial\u001b[39m=\u001b[39m_NoValue, where\u001b[39m=\u001b[39m\u001b[39mTrue\u001b[39;00m):\n\u001b[1;32m---> 45\u001b[0m     \u001b[39mreturn\u001b[39;00m umr_minimum(a, axis, \u001b[39mNone\u001b[39;49;00m, out, keepdims, initial, where)\n",
      "\u001b[1;31mValueError\u001b[0m: zero-size array to reduction operation minimum which has no identity"
     ]
    },
    {
     "data": {
      "image/png": "[encoded data removed]",
      "text/plain": [
       "<Figure size 640x480 with 1 Axes>"
      ]
     },
     "metadata": {},
     "output_type": "display_data"
    }
   ],
   "source": [
    "for item,mask in masks.items():\n",
    "    plt.imshow(mask)"
   ]
  },
  {
   "cell_type": "code",
   "execution_count": null,
   "metadata": {},
   "outputs": [],
   "source": []
  }
 ],
 "metadata": {
  "kernelspec": {
   "display_name": "war_py",
   "language": "python",
   "name": "python3"
  },
  "language_info": {
   "codemirror_mode": {
    "name": "ipython",
    "version": 3
   },
   "file_extension": ".py",
   "mimetype": "text/x-python",
   "name": "python",
   "nbconvert_exporter": "python",
   "pygments_lexer": "ipython3",
   "version": "3.9.18"
  },
  "orig_nbformat": 4
 },
 "nbformat": 4,
 "nbformat_minor": 2
}
